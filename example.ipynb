{
 "cells": [
  {
   "cell_type": "markdown",
   "metadata": {},
   "source": [
    "## <font color=blue >LSPM demo.\n",
    "This notebook demos how to train the LSPM model on the CSV dataset files of ***SFC*** stream sensor. If you want to run it on other sensors, just change the parameter of ***--stream_sensor*** and ***--rain_sensor***.\n",
    "\n",
    "In our dataset, the parameters should be set to:\n",
    "\n",
    "--stream_sensor **Ross_S_fixed**\n",
    "--rain_sensor **Ross_R_fixed** \n",
    "\n",
    "--stream_sensor **Saratoga_S_fixed** \n",
    "--rain_sensor **Saratoga_R_fixed** \n",
    "\n",
    "--stream_sensor **UpperPen_S_fixed** \n",
    "--rain_sensor **UpperPen_R_fixed** \n",
    "\n",
    "--stream_sensor **SFC_S_fixed** \n",
    "--rain_sensor **SFC_R_fixed** \n",
    "\n",
    "With LSPM, you can build **multi-variate** model, which means you have stream sensor data and nearby rain sensor data."
   ]
  },
  {
   "cell_type": "markdown",
   "metadata": {},
   "source": [
    "## <font color=blue >Parameter setting. \n",
    "\n",
    "--**stream_sensor**: stream dataset file name. The file should be csv file.\n",
    "\n",
    "--**rain_sensor**: rain dataset file name. The file should be csv file.\n",
    "\n",
    "--**train_volume**: train set size.\n",
    "\n",
    "--**hidden_dim**: hidden dim of lstm layers.\n",
    "\n",
    "--**cnn_dim**: hidden dim of cnn layers.\n",
    "\n",
    "--**layer**: number of layers.\n",
    "\n",
    "--**model**: model name, used to generate the pt file and predicted file names.\n",
    "\n",
    "--**mode**: set it to 'train' or 'inference' with an existing pt_file.\n",
    "\n",
    "--**pt_file**: if set, the model will be loaded from this pt file, otherwise check the file according to the assigned parameters.\n",
    "\n",
    "--**save**: if save the predicted file of testset, set to 1, else 0.\n",
    "\n",
    "--**outf**: default value is './output', the model will be saved in the train folder in this directory."
   ]
  },
  {
   "cell_type": "markdown",
   "metadata": {},
   "source": [
    "## <font color=blue >Train a *multi-variate* model with rain data."
   ]
  },
  {
   "cell_type": "code",
   "execution_count": null,
   "metadata": {},
   "outputs": [],
   "source": [
    "! python run.py \\\n",
    "--stream_sensor SFC_S_fixed \\\n",
    "--rain_sensor SFC_R_fixed \\\n",
    "--model SFC_07 \\\n",
    "--mode train \\\n",
    "--train_volume 20000 \\\n",
    "--oversampling 120 \\\n",
    "--hidden_dim 400 \\\n",
    "--layer 2 \\\n",
    "--gpu_id 1 "
   ]
  },
  {
   "cell_type": "markdown",
   "metadata": {},
   "source": [
    "## <font color=blue >Load a trained multi-variate model."
   ]
  },
  {
   "cell_type": "code",
   "execution_count": 3,
   "metadata": {},
   "outputs": [
    {
     "name": "stdout",
     "output_type": "stream",
     "text": [
      "current dir:  /data/hydro/hydro-2/code/LSPM\n",
      "Importing parameters from:  opt.txt ............\n",
      "norm is:  [1.38939955e+00 1.42360186e+00 7.20744940e-04 7.35950598e-03]\n"
     ]
    }
   ],
   "source": [
    "import numpy as np\n",
    "import random\n",
    "import imp\n",
    "from utils.utils2 import *\n",
    "from run import Options\n",
    "pt = './output/SFC_07/train/SFC_07.zip'\n",
    "# get model\n",
    "model = Options().get_model(pt)"
   ]
  },
  {
   "cell_type": "markdown",
   "metadata": {},
   "source": [
    "## <font color=blue >Use test_single to do inferencing on one time-point."
   ]
  },
  {
   "cell_type": "code",
   "execution_count": 9,
   "metadata": {},
   "outputs": [
    {
     "name": "stdout",
     "output_type": "stream",
     "text": [
      "test_point is:  2021-12-16 01:30:00\n",
      "RMSE:  83.94240609404251\n",
      "MAPE:  0.9171305494539899\n"
     ]
    },
    {
     "data": {
      "image/png": "[encoded data removed]",
      "text/plain": [
       "<Figure size 1080x216 with 1 Axes>"
      ]
     },
     "metadata": {
      "needs_background": "light"
     },
     "output_type": "display_data"
    }
   ],
   "source": [
    "import numpy as np\n",
    "from utils.utils2 import *\n",
    "from utils.metric import *\n",
    "testP=[\"2021-12-16 01:30:00\" ] \n",
    "predicted, ground_truth = model.test_single(testP[0])\n",
    "print(\"RMSE: \", RMSE(predicted, ground_truth))\n",
    "print(\"MAPE: \", MAPE(predicted, ground_truth))\n",
    "plot(ground_truth, predicted)"
   ]
  },
  {
   "cell_type": "markdown",
   "metadata": {},
   "source": [
    "## <font color=blue >Inferencing for real-world application.\n",
    "If you already have test time point, history stream input and rain data input prepared, use ***predict*** function to do it."
   ]
  },
  {
   "cell_type": "code",
   "execution_count": 10,
   "metadata": {},
   "outputs": [
    {
     "name": "stdout",
     "output_type": "stream",
     "text": [
      "current dir:  /data/hydro/hydro-2/code/LSPM\n",
      "Importing parameters from:  opt.txt ............\n",
      "norm is:  [1.38939955e+00 1.42360186e+00 7.20744940e-04 7.35950598e-03]\n",
      "test_point is:  2021-12-16 00:30:00\n",
      "Predicted data: \n",
      "[126.92107951 175.12308641 147.25317241 155.25941997 170.63626938\n",
      " 173.08835491 161.12186604 168.52253887 151.3168393  172.45054987\n",
      " 161.84812915 178.53956215 169.34473299 166.10583555 172.6919727\n",
      " 169.16472746 177.41440735 174.52393184 187.34567516 181.87129753\n",
      " 184.2549383  179.26007345 190.77474793 190.25648001 194.90027988\n",
      " 196.47838606 198.50169555 200.10615143 201.7805599  202.28527141\n",
      " 205.8834422  201.05505423 202.92955571 202.83032359 203.37628223\n",
      " 203.45565462 203.72564023 204.09501623 204.15168818 202.70237579\n",
      " 199.42071427 195.85922716 191.76478828 183.69949136 168.17777594\n",
      " 157.95971577 154.8079902  153.38498744 152.22331629 151.25708775\n",
      " 150.39640273 149.57073237 148.72252746 147.6816535  145.99138738\n",
      " 143.36478881 140.72786943 138.78225176 137.20826131 135.78350282\n",
      " 134.52192373 133.49867272 132.70927972 132.03437831 131.23320163\n",
      " 130.23023865 129.293731   128.46475824 127.82614691 127.38440611\n",
      " 127.07374171 126.83219015 126.61863981 126.41028953 126.19688275\n",
      " 125.97745479 125.75578095 125.53621202 125.32131087 125.11011332\n",
      " 124.89909794 124.68404171 124.46258185 124.23539112 124.00627819\n",
      " 123.7809302  123.56520493 123.3634859  123.17675989 122.99586945\n",
      " 122.75385991 122.00623554 118.70207774 112.5045215  109.62424251\n",
      " 108.49603083 107.90663471 107.4948193  107.14903645 106.84702827\n",
      " 106.54611897 106.03545973 104.75907414 103.22502105 102.53428181\n",
      " 102.26832628 102.09413155 101.93158434 101.76992127 101.61314416\n",
      " 101.46696973 101.33444457 101.21482237 101.10445401 100.99877452\n",
      " 100.89358484 100.78677624 101.2392839   98.5511971   98.64507334\n",
      "  98.33865508  98.28664361  98.22004266  98.18542917  98.14927972\n",
      "  98.11324437  98.07187539  98.02410395  97.96500146  97.86968532\n",
      "  97.60115304  96.66478308  94.34408125  91.24189407  88.37061771\n",
      "  84.43964528  81.80492021  80.70328754  80.1073931   79.70939624\n",
      "  79.38338504  79.10030333  78.84358007  78.60564536  78.3814052\n",
      "  78.16768444  77.96217695  77.76340482  77.56939974  77.38010232\n",
      "  77.19484384  77.01293583  76.83382857  76.65681939  76.48134358\n",
      "  76.30676282  76.13275868  75.95906783  75.78540323  75.61163647\n",
      "  75.43774407  75.26352158  75.08719113  74.90204497  74.68240612\n",
      "  74.34347446  73.66597626  71.61138316  69.7242614   68.4172369\n",
      "  67.50397793  66.8464377   65.6379981   66.02844661  64.53421919\n",
      "  64.48326878  64.21406811  64.06722733  63.9484651   63.85244477\n",
      "  63.75792913  63.64865049  63.50905996  63.32938665  63.10726919\n",
      "  62.81449992  62.11468147  62.39810714  62.26963426  60.87944322\n",
      "  60.82686432  60.55128821  60.39247918  60.62276753  59.88020477\n",
      "  59.89732692  60.28704915  60.52506475  60.75284264  60.90640606\n",
      "  61.02719478  61.11775648  59.54563423  59.6682155   60.33520303\n",
      "  60.4382552   60.67995632  59.30632095  60.57434609  60.92313375\n",
      "  61.1977569   61.3026072   62.12745025  61.57618398  61.79243178\n",
      "  62.53696498  61.74112142  63.0000226   62.93104758  62.35111816\n",
      "  62.4921358   62.09729995  61.87123115  59.66639317  62.00946966\n",
      "  61.82773533  62.82603463  62.62934225  61.22824827  61.28813422\n",
      "  60.87291173  60.70378494  60.55675153  61.44240355  60.43775473\n",
      "  61.79974242  60.51361181  61.93361558  61.83310935  58.43383704\n",
      "  59.03767507  58.61818747  59.84960976  58.369763    59.94836026\n",
      "  59.73799932  60.02776602  58.40198292  60.25852636  59.87007015\n",
      "  60.91406535  61.06675516  57.95461199  60.8099004   59.85331711\n",
      "  60.10873747  60.01890123  60.03023099  60.01024481  59.99503691\n",
      "  60.66955251  60.97454292  60.06931097  60.25277765  59.98699452\n",
      "  59.8816719   59.7594533   59.66493123  60.38733256  60.61086772\n",
      "  59.62784883  59.78214235  60.45297915  57.18341376  59.59244463\n",
      "  58.71888181  58.91283955  59.59842959  59.96400139  58.93885392\n",
      "  59.1066622   58.81205164  58.68988338  58.55099393  58.43760944\n",
      "  59.17542224  58.23612189  59.50104691]\n"
     ]
    }
   ],
   "source": [
    "import numpy as np\n",
    "import random\n",
    "from utils.utils2 import *\n",
    "from run import Options\n",
    "from models.LSPM import *\n",
    "from models.Inference import *\n",
    "opt = Options().parse()\n",
    "# model name\n",
    "pt = './output/SFC_07/train/SFC_07.zip'\n",
    "# get model\n",
    "model = Options().get_model(pt)\n",
    "# get data\n",
    "testP=[\"2021-12-16 00:30:00\"]   \n",
    "for i in range(len(testP)):\n",
    "    stream_data, indicator_data, _ = model.get_data(testP[i])  \n",
    "    p = model.predict(testP[i], stream_data, indicator_data)\n",
    "    print(\"Predicted data: \")\n",
    "    print(p)"
   ]
  },
  {
   "cell_type": "code",
   "execution_count": null,
   "metadata": {},
   "outputs": [],
   "source": []
  }
 ],
 "metadata": {
  "kernelspec": {
   "display_name": "Python 3",
   "language": "python",
   "name": "python3"
  },
  "language_info": {
   "codemirror_mode": {
    "name": "ipython",
    "version": 3
   },
   "file_extension": ".py",
   "mimetype": "text/x-python",
   "name": "python",
   "nbconvert_exporter": "python",
   "pygments_lexer": "ipython3",
   "version": "3.8.3"
  }
 },
 "nbformat": 4,
 "nbformat_minor": 4
}
